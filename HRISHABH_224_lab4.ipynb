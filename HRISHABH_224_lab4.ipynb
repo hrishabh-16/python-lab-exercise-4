{
 "cells": [
  {
   "cell_type": "code",
   "execution_count": 3,
   "metadata": {},
   "outputs": [
    {
     "name": "stdout",
     "output_type": "stream",
     "text": [
      "Online Election Sysem\n",
      "Candidate Name : Gautam\n",
      "Voter Name :  Hrishabh\n"
     ]
    }
   ],
   "source": [
    "'''Write a Python program to implement the\n",
    "object-oriented concepts of Multilevel inheritance  \n",
    "on online election system'''\n",
    "\n",
    "\n",
    "#multilevel inheritance \n",
    "class Election:\n",
    "\tdef show(self):\n",
    "\t\tprint(\"Online Election Sysem\") \n",
    " \n",
    "class Candidate(Election):\n",
    "\tcandidate_name = \"\"\n",
    "\n",
    "\tdef display(self):\n",
    "\t    print(self.candidate_name) \n",
    " \n",
    "class voter(Candidate):\n",
    "\tvoter_name = \"\"\n",
    "\n",
    "\tdef display2(self):\n",
    "\t\tprint(\"Candidate Name :\",self.candidate_name)\n",
    "\t\tprint(\"Voter Name : \",self.voter_name)\n",
    " \n",
    "obj = voter()\n",
    "obj.candidate_name = \"Gautam\"\n",
    "obj.voter_name = \"Hrishabh\"\n",
    "obj.show()\n",
    "obj.display2()"
   ]
  },
  {
   "cell_type": "code",
   "execution_count": 4,
   "metadata": {},
   "outputs": [
    {
     "name": "stdout",
     "output_type": "stream",
     "text": [
      "The Manager will manage the election coordinately\n",
      "This is the information for the organiser of the election.\n",
      "Organiser is arranging the Ballots and boxes for voting\n"
     ]
    }
   ],
   "source": [
    "'''Write a Python program to implement the\n",
    "object-oriented concepts of Multilple inheritance  \n",
    "on online election system'''\n",
    "class Election:\n",
    "    def organiser_info(self):\n",
    "        print(\"This is the information for the organiser of the election.\")\n",
    "\n",
    "class Organiser:\n",
    "    def display(self):\n",
    "        print(\"Organiser is arranging the Ballots and boxes for voting\")\n",
    "\n",
    "class Manager(Election, Organiser):\n",
    "        print(\"The Manager will manage the election coordinately\")\n",
    "\n",
    "# create an object of Manager class\n",
    "object = Manager()\n",
    "object.organiser_info()\n",
    "object.display()"
   ]
  },
  {
   "cell_type": "code",
   "execution_count": 5,
   "metadata": {},
   "outputs": [
    {
     "name": "stdout",
     "output_type": "stream",
     "text": [
      "This function is in parent class, named as Election.\n",
      "This function is in child class 1,which has the Candidate details.\n",
      "This function is in parent class, named as Election.\n",
      "This function is in child class 3,which has the Voter Details.\n"
     ]
    }
   ],
   "source": [
    "'''Write a Python program to implement the\n",
    "object-oriented concepts of Hierarchical inheritance  \n",
    "on online election system'''\n",
    "class Election:\n",
    "\tdef func1(self):\n",
    "\t\tprint(\"This function is in parent class, named as Election.\")\n",
    "\n",
    "\n",
    "class Candidate(Election):\n",
    "\tdef func2(self):\n",
    "\t\tprint(\"This function is in child class 1,which has the Candidate details.\")\n",
    "\n",
    "\n",
    "class Voter(Candidate):\n",
    "\tdef func3(self):\n",
    "\t\tprint(\"This function is in child class 3,which has the Voter Details.\")\n",
    "\n",
    "\n",
    "\n",
    "object1 = Candidate()\n",
    "object2 = Voter()\n",
    "object1.func1()\n",
    "object1.func2()\n",
    "object2.func1()\n",
    "object2.func3()"
   ]
  }
 ],
 "metadata": {
  "kernelspec": {
   "display_name": "Python 3",
   "language": "python",
   "name": "python3"
  },
  "language_info": {
   "codemirror_mode": {
    "name": "ipython",
    "version": 3
   },
   "file_extension": ".py",
   "mimetype": "text/x-python",
   "name": "python",
   "nbconvert_exporter": "python",
   "pygments_lexer": "ipython3",
   "version": "3.11.4"
  },
  "orig_nbformat": 4
 },
 "nbformat": 4,
 "nbformat_minor": 2
}
